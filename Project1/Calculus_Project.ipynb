{
 "cells": [
  {
   "cell_type": "markdown",
   "id": "e40e1c7c-5a55-4692-bda8-0ea636921247",
   "metadata": {},
   "source": [
    "<span style=\"font-family:Comic Sans MS; color:red; font-size: 28px\">Calculus and Algebra problems with Python</span>"
   ]
  },
  {
   "cell_type": "markdown",
   "id": "60692df1-8bf1-45cb-bcee-582dace167b3",
   "metadata": {},
   "source": [
    "### Exercise 1"
   ]
  },
  {
   "cell_type": "markdown",
   "id": "7cf1d3f6-134f-4a06-8dfd-3e8d71e94ec9",
   "metadata": {},
   "source": [
    "Given it takes 10 seconds (time) to travel 25 meters (distance):\n",
    "- Find the speed and build a linear function on distance (d) over time (t)\n",
    "- Plot the function\n",
    "- Create a dataframe"
   ]
  },
  {
   "cell_type": "code",
   "execution_count": 1,
   "id": "4923df09-d54f-4043-8b25-4f8e3288289c",
   "metadata": {},
   "outputs": [
    {
     "name": "stdout",
     "output_type": "stream",
     "text": [
      "My speed is 2.5 seconds\n"
     ]
    },
    {
     "data": {
      "text/plain": [
       "Text(0.5, 1.0, 'Linear function on distance')"
      ]
     },
     "execution_count": 1,
     "metadata": {},
     "output_type": "execute_result"
    },
    {
     "data": {
      "image/png": "[encoded data removed]",
      "text/plain": [
       "<Figure size 500x300 with 1 Axes>"
      ]
     },
     "metadata": {},
     "output_type": "display_data"
    }
   ],
   "source": [
    "import numpy as np\n",
    "import pandas as pd\n",
    "import matplotlib.pyplot as plt\n",
    "\n",
    "# It takes me 10 seconds (time) to travel 25 meters (distance), what is my speed?\n",
    "def speed(distance,time):\n",
    "    return distance / time\n",
    "\n",
    "distance = 25     # meters\n",
    "time = 10         # seconds\n",
    "speed = speed(distance,time)\n",
    "print('My speed is', str(speed), 'seconds')\n",
    "\n",
    "# Define the distance function\n",
    "def distance(speed,time):\n",
    "    return speed * time\n",
    "\n",
    "speed = 2.5       # this means I move at 2.5 meters per second\n",
    "time = np.linspace(0,10,10)\n",
    "distance = distance(speed,time)\n",
    "plt.figure(figsize=(5,3))\n",
    "plt.plot(time,distance)\n",
    "plt.xlabel('Time')\n",
    "plt.ylabel('Distance')\n",
    "plt.title('Linear function on distance')"
   ]
  },
  {
   "cell_type": "code",
   "execution_count": 2,
   "id": "e5908a79-384e-4eca-ac93-8879f4101faf",
   "metadata": {},
   "outputs": [
    {
     "data": {
      "text/html": [
       "<div>\n",
       "<style scoped>\n",
       "    .dataframe tbody tr th:only-of-type {\n",
       "        vertical-align: middle;\n",
       "    }\n",
       "\n",
       "    .dataframe tbody tr th {\n",
       "        vertical-align: top;\n",
       "    }\n",
       "\n",
       "    .dataframe thead th {\n",
       "        text-align: right;\n",
       "    }\n",
       "</style>\n",
       "<table border=\"1\" class=\"dataframe\">\n",
       "  <thead>\n",
       "    <tr style=\"text-align: right;\">\n",
       "      <th></th>\n",
       "      <th>time</th>\n",
       "      <th>distance</th>\n",
       "    </tr>\n",
       "  </thead>\n",
       "  <tbody>\n",
       "    <tr>\n",
       "      <th>0</th>\n",
       "      <td>0.000000</td>\n",
       "      <td>0.000000</td>\n",
       "    </tr>\n",
       "    <tr>\n",
       "      <th>1</th>\n",
       "      <td>1.111111</td>\n",
       "      <td>2.777778</td>\n",
       "    </tr>\n",
       "    <tr>\n",
       "      <th>2</th>\n",
       "      <td>2.222222</td>\n",
       "      <td>5.555556</td>\n",
       "    </tr>\n",
       "    <tr>\n",
       "      <th>3</th>\n",
       "      <td>3.333333</td>\n",
       "      <td>8.333333</td>\n",
       "    </tr>\n",
       "    <tr>\n",
       "      <th>4</th>\n",
       "      <td>4.444444</td>\n",
       "      <td>11.111111</td>\n",
       "    </tr>\n",
       "    <tr>\n",
       "      <th>5</th>\n",
       "      <td>5.555556</td>\n",
       "      <td>13.888889</td>\n",
       "    </tr>\n",
       "    <tr>\n",
       "      <th>6</th>\n",
       "      <td>6.666667</td>\n",
       "      <td>16.666667</td>\n",
       "    </tr>\n",
       "    <tr>\n",
       "      <th>7</th>\n",
       "      <td>7.777778</td>\n",
       "      <td>19.444444</td>\n",
       "    </tr>\n",
       "    <tr>\n",
       "      <th>8</th>\n",
       "      <td>8.888889</td>\n",
       "      <td>22.222222</td>\n",
       "    </tr>\n",
       "    <tr>\n",
       "      <th>9</th>\n",
       "      <td>10.000000</td>\n",
       "      <td>25.000000</td>\n",
       "    </tr>\n",
       "  </tbody>\n",
       "</table>\n",
       "</div>"
      ],
      "text/plain": [
       "        time   distance\n",
       "0   0.000000   0.000000\n",
       "1   1.111111   2.777778\n",
       "2   2.222222   5.555556\n",
       "3   3.333333   8.333333\n",
       "4   4.444444  11.111111\n",
       "5   5.555556  13.888889\n",
       "6   6.666667  16.666667\n",
       "7   7.777778  19.444444\n",
       "8   8.888889  22.222222\n",
       "9  10.000000  25.000000"
      ]
     },
     "execution_count": 2,
     "metadata": {},
     "output_type": "execute_result"
    }
   ],
   "source": [
    "df = pd.DataFrame({\n",
    "    'time': time,\n",
    "    'distance': distance\n",
    "})\n",
    "\n",
    "df"
   ]
  },
  {
   "cell_type": "markdown",
   "id": "b645a13d-f4b9-4d4e-8112-e7256e4cb288",
   "metadata": {},
   "source": [
    "### Exercise 2"
   ]
  },
  {
   "cell_type": "markdown",
   "id": "72258bba-6427-4bab-88dc-b7933f53c189",
   "metadata": {},
   "source": [
    "The equation for distance traveled under constant acceleration is d = v_i * t + 0.5 * a * t^2, where:\n",
    "d = distance (25 meters)\n",
    "\n",
    "v_i = initial velocity (0)\n",
    "\n",
    "a = acceleration\n",
    "\n",
    "t = time (10 seconds)\n",
    "\n",
    "The equation 25 = 0 * 10 + 0.5 * a * (10**2)  => 25 = 50a => a = 25/50 = 0.5\n",
    "\n",
    "distance = 0.25*t^2 => 25"
   ]
  },
  {
   "cell_type": "markdown",
   "id": "79ca9213-6d43-48c7-b594-c7d0e9ed434c",
   "metadata": {},
   "source": [
    "Given the speed is not constant and increases over time but still takes 10 seconds to travel 25 meters:\n",
    "- Define and plot the quadratic function\n",
    "- Create a dataframe\n"
   ]
  },
  {
   "cell_type": "code",
   "execution_count": 3,
   "id": "65d37bbf-8336-4987-9650-5e5d76393f93",
   "metadata": {},
   "outputs": [
    {
     "data": {
      "text/plain": [
       "Text(0, 0.5, 'distance')"
      ]
     },
     "execution_count": 3,
     "metadata": {},
     "output_type": "execute_result"
    },
    {
     "data": {
      "image/png": "[encoded data removed]",
      "text/plain": [
       "<Figure size 500x300 with 1 Axes>"
      ]
     },
     "metadata": {},
     "output_type": "display_data"
    }
   ],
   "source": [
    "def f(x):\n",
    "    return 0.25*x**2          # this is the quadratic function that represents accelarated motion in physics\n",
    "\n",
    "x = np.linspace(0,10,100)     # generates 100 evenly-spaced numbers between 0-10 used for the x-values\n",
    "y = f(x)                      # this applies the cunction f(x) to each value in the array x, resulting in new array y of y-values\n",
    "plt.figure(figsize=(5,3))\n",
    "plt.plot(x,y)\n",
    "plt.xlabel('time')\n",
    "plt.ylabel('distance')"
   ]
  },
  {
   "cell_type": "code",
   "execution_count": 4,
   "id": "6747d922-6b5d-4ebb-923d-0523aaedca5b",
   "metadata": {},
   "outputs": [
    {
     "data": {
      "text/html": [
       "<div>\n",
       "<style scoped>\n",
       "    .dataframe tbody tr th:only-of-type {\n",
       "        vertical-align: middle;\n",
       "    }\n",
       "\n",
       "    .dataframe tbody tr th {\n",
       "        vertical-align: top;\n",
       "    }\n",
       "\n",
       "    .dataframe thead th {\n",
       "        text-align: right;\n",
       "    }\n",
       "</style>\n",
       "<table border=\"1\" class=\"dataframe\">\n",
       "  <thead>\n",
       "    <tr style=\"text-align: right;\">\n",
       "      <th></th>\n",
       "      <th>Time</th>\n",
       "      <th>Distance</th>\n",
       "    </tr>\n",
       "  </thead>\n",
       "  <tbody>\n",
       "    <tr>\n",
       "      <th>0</th>\n",
       "      <td>0.00000</td>\n",
       "      <td>0.000000</td>\n",
       "    </tr>\n",
       "    <tr>\n",
       "      <th>1</th>\n",
       "      <td>0.10101</td>\n",
       "      <td>0.002551</td>\n",
       "    </tr>\n",
       "    <tr>\n",
       "      <th>2</th>\n",
       "      <td>0.20202</td>\n",
       "      <td>0.010203</td>\n",
       "    </tr>\n",
       "    <tr>\n",
       "      <th>3</th>\n",
       "      <td>0.30303</td>\n",
       "      <td>0.022957</td>\n",
       "    </tr>\n",
       "    <tr>\n",
       "      <th>4</th>\n",
       "      <td>0.40404</td>\n",
       "      <td>0.040812</td>\n",
       "    </tr>\n",
       "  </tbody>\n",
       "</table>\n",
       "</div>"
      ],
      "text/plain": [
       "      Time  Distance\n",
       "0  0.00000  0.000000\n",
       "1  0.10101  0.002551\n",
       "2  0.20202  0.010203\n",
       "3  0.30303  0.022957\n",
       "4  0.40404  0.040812"
      ]
     },
     "execution_count": 4,
     "metadata": {},
     "output_type": "execute_result"
    }
   ],
   "source": [
    "df = pd.DataFrame({'Time': x, \n",
    "                  'Distance': y})\n",
    "\n",
    "df.head()"
   ]
  },
  {
   "cell_type": "markdown",
   "id": "ba4b1255-d99d-410b-9615-dd8c9d214986",
   "metadata": {},
   "source": [
    "Another approach for Exercise 2 can be the following:"
   ]
  },
  {
   "cell_type": "code",
   "execution_count": 5,
   "id": "de1263ea-bec0-4915-914b-1d56e82f791c",
   "metadata": {},
   "outputs": [
    {
     "data": {
      "text/plain": [
       "Text(0, 0.5, 'Distance')"
      ]
     },
     "execution_count": 5,
     "metadata": {},
     "output_type": "execute_result"
    },
    {
     "data": {
      "image/png": "[encoded data removed]",
      "text/plain": [
       "<Figure size 500x300 with 1 Axes>"
      ]
     },
     "metadata": {},
     "output_type": "display_data"
    }
   ],
   "source": [
    "t = np.linspace(0,10,100)    # the time (t) is represented as array of 100 evenly-spaced numbers\n",
    "distance = 0.25 * (t**2)     # quadratic function representing distance traveled under constant acceleration\n",
    "\n",
    "plt.figure(figsize=(5,3))\n",
    "plt.plot(t, distance)\n",
    "plt.xlabel('Time')\n",
    "plt.ylabel('Distance')"
   ]
  },
  {
   "cell_type": "markdown",
   "id": "9110a306-00e4-4540-a65f-66ed6ed04f52",
   "metadata": {},
   "source": [
    "Now with plotting 2 mathematical functions:\n",
    "1. One representing distance over time\n",
    "2. Other representing speed over time, given a constant acceleration"
   ]
  },
  {
   "cell_type": "code",
   "execution_count": 6,
   "id": "11eb41c5-ebe0-4412-9076-01dcfa1e9a88",
   "metadata": {},
   "outputs": [
    {
     "data": {
      "text/plain": [
       "Text(0, 0.5, 'Speed')"
      ]
     },
     "execution_count": 6,
     "metadata": {},
     "output_type": "execute_result"
    },
    {
     "data": {
      "image/png": "[encoded data removed]",
      "text/plain": [
       "<Figure size 500x300 with 1 Axes>"
      ]
     },
     "metadata": {},
     "output_type": "display_data"
    }
   ],
   "source": [
    "# d = v_i * t + 0.5 * a * t^2  => 0 * 10 + 0.5 * a * (10**2) => 25 = 50a => a = 25/50 = 0.5\n",
    "a = 0.5                      # acceleration set to 0.5 because a = 25/50 = 0.5\n",
    "t = np.linspace(0,10,100)    # time respresented as array of 100 evenly spaced numbers between 0 and 10\n",
    "distance = 0.25 * (t**2)     # quadratic function representing distance traveled under constant acceleration, simplified because a = 0.25\n",
    "speed = 0 + a * t            # linear function representing speed under constant acceleration v = v_i + a * t, simplified because v_i = 0 \n",
    "plt.figure(figsize=(5,3))\n",
    "plt.plot(t, distance)        # plot distance over time\n",
    "plt.xlabel('Time')             \n",
    "plt.ylabel('Distance')\n",
    "plt.plot(t, speed)           # plot speed over time \n",
    "plt.xlabel('Time')\n",
    "plt.ylabel('Speed')"
   ]
  },
  {
   "cell_type": "markdown",
   "id": "85e6aaf0-3f9e-4eb5-8790-84928e5d9525",
   "metadata": {},
   "source": [
    "### Exercise 3"
   ]
  },
  {
   "cell_type": "markdown",
   "id": "79afdb3a-abb0-40b3-a083-8a27f136dc14",
   "metadata": {},
   "source": [
    "Build a quadratic function f(x) = 0.1(x^2) - 9x + 4500 on x E 0, 100 to create per-unit cost function"
   ]
  },
  {
   "cell_type": "code",
   "execution_count": 7,
   "id": "4377c133-7c5e-419c-bb42-82f8e82f5c10",
   "metadata": {},
   "outputs": [
    {
     "data": {
      "text/plain": [
       "Text(0, 0.5, 'f(x)')"
      ]
     },
     "execution_count": 7,
     "metadata": {},
     "output_type": "execute_result"
    },
    {
     "data": {
      "image/png": "[encoded data removed]",
      "text/plain": [
       "<Figure size 500x300 with 1 Axes>"
      ]
     },
     "metadata": {},
     "output_type": "display_data"
    }
   ],
   "source": [
    "x = np.linspace(0,100,100)\n",
    "\n",
    "def f(x):\n",
    "    return 0.1 * (x**2) - 9 * x + 4500    # quadratic function which is type of polynomial function that can model various types of curves\n",
    "\n",
    "y = f(x)                                  # applies the function f(x) to each value in array x resulting in a new array y of y-values for the plot\n",
    "plt.figure(figsize=(5,3))\n",
    "plt.plot(x,y)\n",
    "plt.xlabel('x')\n",
    "plt.ylabel('f(x)')"
   ]
  },
  {
   "cell_type": "markdown",
   "id": "10dd5783-07b3-4466-a4f1-482f7496689a",
   "metadata": {},
   "source": [
    "### Linear Algebra\n",
    "#### Exercise 1: Sum of two matrices"
   ]
  },
  {
   "cell_type": "code",
   "execution_count": 8,
   "id": "13663c81-051e-4e4a-a339-d355ecba1e15",
   "metadata": {},
   "outputs": [
    {
     "name": "stdout",
     "output_type": "stream",
     "text": [
      "1. Function that takes 2 matrices as input and returns their sum: \n",
      "[[ 5  7]\n",
      " [ 9 11]]\n",
      " \n",
      "2. Using np.array: \n",
      "[[ 5  7]\n",
      " [ 9 11]]\n"
     ]
    }
   ],
   "source": [
    "# Suppose we have two matrices A and B\n",
    "A = [[1,2],[3,4]]\n",
    "B = [[4,5],[6,7]]\n",
    "# Make the sum of two matrices using Numpy:\n",
    "print('1. Function that takes 2 matrices as input and returns their sum: ')\n",
    "def add_matrices(A, B):\n",
    "    return np.add(A, B)\n",
    "\n",
    "print(add_matrices(A, B))\n",
    "print(' ')\n",
    "print('2. Using np.array: ')\n",
    "A = np.array(A)\n",
    "B = np.array(B)\n",
    "print(A + B)  # can be also np.add(A, B)"
   ]
  },
  {
   "cell_type": "markdown",
   "id": "eb0e98a4-06fe-47da-9cd3-70d7a66c2697",
   "metadata": {},
   "source": [
    "#### Exercise 2: Sum of two lists"
   ]
  },
  {
   "cell_type": "code",
   "execution_count": 13,
   "id": "2d680675-22cd-4844-b48f-4a80e47c18eb",
   "metadata": {},
   "outputs": [
    {
     "name": "stdout",
     "output_type": "stream",
     "text": [
      "The lists are [2, 5, 4, 7, 3] and [1, 4, 6, 9, 10]\n",
      "a) Naive method: empty list and for loop\n",
      "[3, 9, 10, 16, 13]\n",
      "b) Using list comprehension: \n",
      "[3, 9, 10, 16, 13]\n",
      "c) Using map() and lambda function: \n",
      "[3, 9, 10, 16, 13]\n",
      "d) Using zip() function: \n",
      "[3, 9, 10, 16, 13]\n"
     ]
    }
   ],
   "source": [
    "# We have the following lists, sum both using different methods:\n",
    "list1 = [2,5,4,7,3]\n",
    "list2 = [1,4,6,9,10]\n",
    "print('The lists are ' + str(list1) + ' and ' + str(list2))\n",
    "print('a) Naive method: empty list and for loop')\n",
    "sum_list = []\n",
    "for i in range(len(list1)):\n",
    "    sum_list.append(list1[i] + list2[i])\n",
    "print(sum_list)\n",
    "\n",
    "print('b) Using list comprehension: ')\n",
    "sum_list = [list1[i] + list2[i] for i in range(len(list1))]\n",
    "print(sum_list)\n",
    "\n",
    "print('c) Using map() and lambda function: ')\n",
    "sum_list = list(map(lambda x,y: x+y, list1, list2))\n",
    "print(sum_list)\n",
    "\n",
    "print('d) Using zip() function: ')\n",
    "sum_list = [x+y for x,y in zip(list1, list2)]\n",
    "print(sum_list)\n"
   ]
  },
  {
   "cell_type": "markdown",
   "id": "3a19af7b-edc7-494f-8216-e73d8e9c5cd9",
   "metadata": {},
   "source": [
    "#### Exercise 3: Dot multiplication"
   ]
  },
  {
   "cell_type": "code",
   "execution_count": 20,
   "id": "1d7c83c0-ab6f-4053-b80e-254231f42e3f",
   "metadata": {},
   "outputs": [
    {
     "name": "stdout",
     "output_type": "stream",
     "text": [
      "[[24, 33, 28], [33, 36, 23], [25, 29, 23]]\n",
      "[[24 33 28]\n",
      " [33 36 23]\n",
      " [25 29 23]]\n"
     ]
    }
   ],
   "source": [
    "# Using for loop input the two matrices of size n x m\n",
    "matrix1 = [[1,7,3],\n",
    " [ 4,5,2],\n",
    " [ 3,6,1]]\n",
    "\n",
    "matrix2 = [[5,4,1],\n",
    " [ 1,2,3],\n",
    " [ 4,5,2]]\n",
    "\n",
    "result = [[0,0,0],\n",
    " [0,0,0],\n",
    " [0,0,0]]\n",
    "\n",
    "for i in range(len(matrix1)):\n",
    "    for j in range(len(matrix2[0])):\n",
    "        for k in range(len(matrix2)):\n",
    "            result[i][j] += matrix1[i][k] * matrix2[k][j]\n",
    "print(result)\n",
    "# Using numpy and dot product \n",
    "result = np.dot(matrix1, matrix2)\n",
    "print(result)"
   ]
  },
  {
   "cell_type": "code",
   "execution_count": null,
   "id": "03db1599-a835-4a84-b8c0-1ce28dfdf59c",
   "metadata": {},
   "outputs": [],
   "source": []
  }
 ],
 "metadata": {
  "kernelspec": {
   "display_name": "Python 3 (ipykernel)",
   "language": "python",
   "name": "python3"
  },
  "language_info": {
   "codemirror_mode": {
    "name": "ipython",
    "version": 3
   },
   "file_extension": ".py",
   "mimetype": "text/x-python",
   "name": "python",
   "nbconvert_exporter": "python",
   "pygments_lexer": "ipython3",
   "version": "3.11.3"
  }
 },
 "nbformat": 4,
 "nbformat_minor": 5
}
